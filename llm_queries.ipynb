# --- Step 1: Load and preprocess data ---
import pandas as pd
import matplotlib.pyplot as plt
import seaborn as sns

df = pd.read_csv('household_power_consumption.txt',
                 sep=';',
                 parse_dates={'datetime': ['Date', 'Time']},
                 infer_datetime_format=True,
                 na_values=['?'],
                 low_memory=False)

df = df.dropna()
df['Global_active_power'] = df['Global_active_power'].astype(float)
df = df.set_index('datetime')

# --- Query 1: Average active power consumption in March 2007 ---
query_1 = df['2007-03']['Global_active_power'].mean()
print("Average Global Active Power in March 2007:", query_1)

# --- Query 2: Hour with highest power usage on Christmas 2006 ---
christmas = df['2006-12-25']
hourly_avg = christmas.resample('H').mean()
max_hour = hourly_avg['Global_active_power'].idxmax()
print("Hour with highest power usage on Christmas 2006:", max_hour)

# --- Query 3: Weekdays vs Weekends comparison ---
df['day'] = df.index.dayofweek
df['is_weekend'] = df['day'].apply(lambda x: 1 if x >= 5 else 0)
comparison = df.groupby('is_weekend')['Global_active_power'].mean()
print("Weekday vs Weekend Energy Usage:\n", comparison)

# --- Query 4: Days where energy consumption exceeded 5 kWh ---
daily_energy = df['Global_active_power'].resample('D').sum()
high_usage_days = daily_energy[daily_energy > 5]
print("Days with consumption > 5 kWh:\n", high_usage_days)

# --- Query 5: Plot energy usage trend for first week of January 2007 ---
january_week = df['2007-01-01':'2007-01-07']
plt.figure(figsize=(12,6))
plt.plot(january_week.index, january_week['Global_active_power'])
plt.title("Energy Usage Trend: Jan 1–7, 2007")
plt.xlabel("Date")
plt.ylabel("Global Active Power (kW)")
plt.grid(True)
plt.tight_layout()
plt.show()

# --- Query 6: Average voltage for each day of first week of February 2007 ---
feb_week = df['2007-02-01':'2007-02-07']
daily_voltage_avg = feb_week['Voltage'].resample('D').mean()
print("Average daily voltage (Feb 1–7, 2007):\n", daily_voltage_avg)

# --- Query 7: Correlation between Global Active Power and Sub-metering ---
submeter_columns = ['Sub_metering_1', 'Sub_metering_2', 'Sub_metering_3']
df[submeter_columns] = df[submeter_columns].astype(float)
correlation_matrix = df[['Global_active_power'] + submeter_columns].corr()
print("Correlation Matrix:\n", correlation_matrix)

# Optional: Heatmap
sns.heatmap(correlation_matrix, annot=True, cmap='coolwarm')
plt.title("Correlation between Global Active Power and Sub-meterings")
plt.tight_layout()
plt.show()
